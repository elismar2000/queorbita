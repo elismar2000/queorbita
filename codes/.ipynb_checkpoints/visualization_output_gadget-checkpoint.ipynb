{
 "cells": [
  {
   "cell_type": "markdown",
   "metadata": {},
   "source": [
    "# Functions"
   ]
  },
  {
   "cell_type": "code",
   "execution_count": 1,
   "metadata": {},
   "outputs": [
    {
     "ename": "ModuleNotFoundError",
     "evalue": "No module named 'pygadgetreader'",
     "output_type": "error",
     "traceback": [
      "\u001b[0;31m---------------------------------------------------------------------------\u001b[0m",
      "\u001b[0;31mModuleNotFoundError\u001b[0m                       Traceback (most recent call last)",
      "\u001b[0;32m<ipython-input-1-a52419b7c0b8>\u001b[0m in \u001b[0;36m<module>\u001b[0;34m\u001b[0m\n\u001b[1;32m      1\u001b[0m \u001b[0;32mimport\u001b[0m \u001b[0mnumpy\u001b[0m \u001b[0;32mas\u001b[0m \u001b[0mnp\u001b[0m\u001b[0;34m\u001b[0m\u001b[0;34m\u001b[0m\u001b[0m\n\u001b[1;32m      2\u001b[0m \u001b[0;32mimport\u001b[0m \u001b[0mmatplotlib\u001b[0m\u001b[0;34m.\u001b[0m\u001b[0mpyplot\u001b[0m \u001b[0;32mas\u001b[0m \u001b[0mplt\u001b[0m\u001b[0;34m\u001b[0m\u001b[0;34m\u001b[0m\u001b[0m\n\u001b[0;32m----> 3\u001b[0;31m \u001b[0;32mimport\u001b[0m \u001b[0mpygadgetreader\u001b[0m \u001b[0;32mas\u001b[0m \u001b[0mgadred\u001b[0m\u001b[0;34m\u001b[0m\u001b[0;34m\u001b[0m\u001b[0m\n\u001b[0m\u001b[1;32m      4\u001b[0m \u001b[0;32mfrom\u001b[0m \u001b[0mastropy\u001b[0m\u001b[0;34m.\u001b[0m\u001b[0mio\u001b[0m \u001b[0;32mimport\u001b[0m \u001b[0mfits\u001b[0m\u001b[0;34m\u001b[0m\u001b[0;34m\u001b[0m\u001b[0m\n\u001b[1;32m      5\u001b[0m \u001b[0;32mfrom\u001b[0m \u001b[0mastropy\u001b[0m\u001b[0;34m.\u001b[0m\u001b[0mconvolution\u001b[0m \u001b[0;32mimport\u001b[0m \u001b[0mconvolve\u001b[0m\u001b[0;34m\u001b[0m\u001b[0;34m\u001b[0m\u001b[0m\n",
      "\u001b[0;31mModuleNotFoundError\u001b[0m: No module named 'pygadgetreader'"
     ]
    }
   ],
   "source": [
    "import numpy as np\n",
    "import matplotlib.pyplot as plt\n",
    "import pygadgetreader as gadred\n",
    "from astropy.io import fits\n",
    "from astropy.convolution import convolve\n",
    "from astropy.convolution import Gaussian2DKernel"
   ]
  },
  {
   "cell_type": "code",
   "execution_count": null,
   "metadata": {},
   "outputs": [],
   "source": [
    "def density_map(posxy, gal_prop, x_c, y_c, method='mean', scpix=1, ima_size=[150,150]):\n",
    "    \n",
    "    gal_den=np.zeros((ima_size[1],ima_size[0]))*np.nan\n",
    "\n",
    "    x_c = (ima_size[0]*0.5)*scpix-x_c\n",
    "    y_c = (ima_size[1]*0.5)*scpix-y_c\n",
    "    \n",
    "    for ind, e in np.ndenumerate(gal_den):        \n",
    "        cond = ((posxy[:,1] > ind[0]*scpix-y_c)  & (posxy[:,1] < ind[0]*scpix-y_c+scpix) & \n",
    "                (posxy[:,0] > ind[1]*scpix-x_c)  & (posxy[:,0] < ind[1]*scpix-x_c +scpix) )\n",
    "        if method == 'mean':\n",
    "            gal_den[ind] = np.nanmean(gal_prop[cond])\n",
    "        else:\n",
    "            gal_den[ind] = np.nansum(gal_prop[cond])\n",
    "            \n",
    "    if method == 'sum':\n",
    "        gal_den[gal_den==0.0]=np.nan\n",
    "    \n",
    "    return gal_den"
   ]
  },
  {
   "cell_type": "markdown",
   "metadata": {},
   "source": [
    "# Loading the Snapshots"
   ]
  },
  {
   "cell_type": "code",
   "execution_count": null,
   "metadata": {},
   "outputs": [],
   "source": [
    "gadred.readheader('snapshot_190','header')\n"
   ]
  },
  {
   "cell_type": "code",
   "execution_count": null,
   "metadata": {},
   "outputs": [],
   "source": [
    "gas_vel = gadred.readsnap('snapshot_190','vel','gas')\n",
    "gas_pos = gadred.readsnap('snapshot_190','pos','gas')\n",
    "gas_mass = gadred.readsnap('snapshot_190','mass','gas')\n",
    "disk_pos = gadred.readsnap('snapshot_190','pos','disk')\n",
    "disk_mass = gadred.readsnap('snapshot_190','mass','disk')\n"
   ]
  },
  {
   "cell_type": "markdown",
   "metadata": {},
   "source": [
    "# Stars"
   ]
  },
  {
   "cell_type": "code",
   "execution_count": null,
   "metadata": {},
   "outputs": [],
   "source": [
    "hb = plt.hexbin(disk_pos[:,0],disk_pos[:,1], gridsize=50, bins='log', cmap='inferno')\n",
    "cb = plt.colorbar(hb)\n",
    "cb.set_label('log10(N)')"
   ]
  },
  {
   "cell_type": "markdown",
   "metadata": {},
   "source": [
    "# Gas"
   ]
  },
  {
   "cell_type": "code",
   "execution_count": null,
   "metadata": {},
   "outputs": [],
   "source": [
    "%matplotlib inline\n",
    "hb = plt.hexbin(gas_pos[:,0],gas_pos[:,1], gridsize=500, bins='log', cmap='inferno')\n",
    "cb = plt.colorbar(hb)\n",
    "cb.set_label('log10(N)')\n",
    "limx = np.percentile(disk_pos[:,0], [0,100])\n",
    "limy = np.percentile(disk_pos[:,1], [0,100])\n",
    "plt.xlim(limx)\n",
    "plt.ylim(limy)"
   ]
  },
  {
   "cell_type": "markdown",
   "metadata": {},
   "source": [
    "# Determining the center of the image"
   ]
  },
  {
   "cell_type": "code",
   "execution_count": null,
   "metadata": {},
   "outputs": [],
   "source": [
    "xcent = -10\n",
    "ycent = -20\n",
    "\n",
    "plt.vlines(xcent,limy[0], limy[1])\n",
    "plt.hlines(ycent,limx[0], limx[1])\n",
    "\n",
    "hb = plt.hexbin(disk_pos[:,0],disk_pos[:,1], gridsize=50, bins='log', cmap='inferno')\n",
    "cb = plt.colorbar(hb)\n",
    "cb.set_label('log10(N)')\n",
    "plt.xlim(limx)\n",
    "plt.ylim(limy)"
   ]
  },
  {
   "cell_type": "markdown",
   "metadata": {},
   "source": [
    "# Making Star and gas images"
   ]
  },
  {
   "cell_type": "code",
   "execution_count": null,
   "metadata": {},
   "outputs": [],
   "source": [
    "dimx = 300\n",
    "dimy = 300\n",
    "\n",
    "map_rad_vel = density_map(gas_pos, gas_vel[:,2] , -10, -20, ima_size=[dimx, dimy], scpix=0.5)\n",
    "map_star=density_map(disk_pos, disk_mass, -10, -20, 'sum', ima_size=[dimx, dimy], scpix=0.5)\n",
    "map_gas=density_map(gas_pos, gas_mass, -10, -20, 'sum', ima_size=[75, 75], scpix=2)"
   ]
  },
  {
   "cell_type": "markdown",
   "metadata": {},
   "source": [
    "# Radial Velocity map"
   ]
  },
  {
   "cell_type": "code",
   "execution_count": null,
   "metadata": {},
   "outputs": [],
   "source": [
    "%matplotlib nbagg\n",
    "plt.figure(figsize=(7,7))\n",
    "cb=plt.imshow(map_rad_vel, origin='lower', cmap='Spectral', vmin=-600, vmax=300, interpolation='none',\n",
    "             extent=[-dimx,dimx,-dimy,dimy])\n",
    "\n",
    "cb = plt.colorbar(cb)\n",
    "\n",
    "plt.imshow(map_star, origin='lower', vmin=np.nanpercentile(map_star,10), alpha=0.5,\n",
    "                                     vmax=np.nanpercentile(map_star,99.8), interpolation='none',\n",
    "           extent=[-dimx,dimx,-dimy,dimy])\n",
    "\n",
    "\n",
    "\n",
    "plt.minorticks_on()\n",
    "plt.xlabel(\"Delta x (kpc)\")\n",
    "plt.ylabel(\"Delta y (kpc)\")"
   ]
  },
  {
   "cell_type": "markdown",
   "metadata": {},
   "source": [
    "# Star and gas Maps"
   ]
  },
  {
   "cell_type": "code",
   "execution_count": null,
   "metadata": {},
   "outputs": [],
   "source": [
    "%matplotlib inline\n",
    "plt.imshow(map_gas, origin='lower', vmin=np.nanpercentile(map_gas,10), alpha=1,\n",
    "                                     vmax=np.nanpercentile(map_gas,99.8), interpolation='none')\n",
    "\n",
    "plt.contour(map_gas, np.nanpercentile(map_gas,[50,70,80]), origin='lower',)"
   ]
  },
  {
   "cell_type": "code",
   "execution_count": null,
   "metadata": {},
   "outputs": [],
   "source": [
    "kernel = Gaussian2DKernel(x_stddev=0.2)\n",
    "smooth = convolve(map_gas, kernel)\n",
    "smooth[np.isnan(map_gas)]=np.nan"
   ]
  },
  {
   "cell_type": "code",
   "execution_count": null,
   "metadata": {},
   "outputs": [],
   "source": [
    "%matplotlib inline\n",
    "plt.figure(figsize=(7,7))\n",
    "#cb=plt.imshow(map_rad_vel, origin='lower', cmap='Spectral', vmin=-600, vmax=300, interpolation='none')\n",
    "\n",
    "plt.imshow(map_star, origin='lower', vmin=np.nanpercentile(map_star,10), cmap='viridis',\n",
    "                                     vmax=np.nanpercentile(map_star,99.8), interpolation='none',\n",
    "           extent=[-dimx,dimx,-dimy,dimy])\n",
    "\n",
    "plt.contour(smooth, np.nanpercentile(smooth,[70,80,90,99]), origin='lower', \n",
    "            extent=[-dimx,dimx,-dimy,dimy], colors='red')\n",
    "\n",
    "plt.minorticks_on()\n",
    "plt.xlabel(\"Delta x (kpc)\")\n",
    "plt.ylabel(\"Delta y (kpc)\")"
   ]
  }
 ],
 "metadata": {
  "kernelspec": {
   "display_name": "Python 3",
   "language": "python",
   "name": "python3"
  },
  "language_info": {
   "codemirror_mode": {
    "name": "ipython",
    "version": 3
   },
   "file_extension": ".py",
   "mimetype": "text/x-python",
   "name": "python",
   "nbconvert_exporter": "python",
   "pygments_lexer": "ipython3",
   "version": "3.8.10"
  },
  "toc": {
   "base_numbering": 1,
   "nav_menu": {},
   "number_sections": true,
   "sideBar": true,
   "skip_h1_title": false,
   "title_cell": "Table of Contents",
   "title_sidebar": "Contents",
   "toc_cell": false,
   "toc_position": {},
   "toc_section_display": true,
   "toc_window_display": false
  }
 },
 "nbformat": 4,
 "nbformat_minor": 5
}
